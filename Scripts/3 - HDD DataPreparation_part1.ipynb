{
 "cells": [
  {
   "cell_type": "code",
   "execution_count": 1,
   "id": "5a754b4f",
   "metadata": {
    "colab": {
     "base_uri": "https://localhost:8080/"
    },
    "id": "5a754b4f",
    "outputId": "00e83aba-93da-4f0b-9a1c-19de53fc0d2b"
   },
   "outputs": [
    {
     "name": "stdout",
     "output_type": "stream",
     "text": [
      "Collecting PySpark\n",
      "  Downloading pyspark-3.5.0.tar.gz (316.9 MB)\n",
      "Collecting py4j==0.10.9.7\n",
      "  Downloading py4j-0.10.9.7-py2.py3-none-any.whl (200 kB)\n",
      "Building wheels for collected packages: PySpark\n",
      "  Building wheel for PySpark (setup.py): started\n",
      "  Building wheel for PySpark (setup.py): finished with status 'done'\n",
      "  Created wheel for PySpark: filename=pyspark-3.5.0-py2.py3-none-any.whl size=317425366 sha256=5a74bab81c7861c40c99db46619e7ebff50d7bc73462a7ed6de02226b4d94dab\n",
      "  Stored in directory: c:\\users\\sheet\\appdata\\local\\pip\\cache\\wheels\\57\\bd\\14\\ce9e21f2649298678d011fb8f71ed38ee70b42b94fef0be142\n",
      "Successfully built PySpark\n",
      "Installing collected packages: py4j, PySpark\n",
      "Successfully installed PySpark-3.5.0 py4j-0.10.9.7\n"
     ]
    }
   ],
   "source": [
    "# Import PySpark\n",
    "!pip install PySpark\n",
    "import pyspark\n",
    "from pyspark.sql import SparkSession\n",
    "\n",
    "#Create SparkSession\n",
    "spark = SparkSession.builder.master(\"local[2]\").appName(\"test1\").getOrCreate()\n",
    "spark.conf.set(\"spark.sql.shuffle.partitions\", \"2000\")\n",
    "spark.conf.set(\"spark.sql.adaptive.enabled\", True)"
   ]
  },
  {
   "cell_type": "code",
   "execution_count": 2,
   "id": "6501871d",
   "metadata": {
    "id": "6501871d"
   },
   "outputs": [],
   "source": [
    "#Import relevant Libraries\n",
    "from functools import reduce\n",
    "from pyspark.sql import DataFrame\n",
    "import pyspark.sql.functions as F\n",
    "from pyspark.sql.functions import when\n",
    "from typing import List\n",
    "from pyspark.sql.window import Window"
   ]
  },
  {
   "cell_type": "code",
   "execution_count": 3,
   "id": "GkeXHEokjxeR",
   "metadata": {
    "colab": {
     "base_uri": "https://localhost:8080/"
    },
    "id": "GkeXHEokjxeR",
    "outputId": "03b759e6-e046-4021-c5e0-208a8694630a"
   },
   "outputs": [
    {
     "ename": "ModuleNotFoundError",
     "evalue": "No module named 'google.colab'",
     "output_type": "error",
     "traceback": [
      "\u001b[1;31m---------------------------------------------------------------------------\u001b[0m",
      "\u001b[1;31mModuleNotFoundError\u001b[0m                       Traceback (most recent call last)",
      "\u001b[1;32m~\\AppData\\Local\\Temp/ipykernel_26404/1408506528.py\u001b[0m in \u001b[0;36m<module>\u001b[1;34m\u001b[0m\n\u001b[1;32m----> 1\u001b[1;33m \u001b[1;32mfrom\u001b[0m \u001b[0mgoogle\u001b[0m\u001b[1;33m.\u001b[0m\u001b[0mcolab\u001b[0m \u001b[1;32mimport\u001b[0m \u001b[0mdrive\u001b[0m\u001b[1;33m\u001b[0m\u001b[1;33m\u001b[0m\u001b[0m\n\u001b[0m\u001b[0;32m      2\u001b[0m \u001b[0mdrive\u001b[0m\u001b[1;33m.\u001b[0m\u001b[0mmount\u001b[0m\u001b[1;33m(\u001b[0m\u001b[1;34m'/content/drive'\u001b[0m\u001b[1;33m)\u001b[0m\u001b[1;33m\u001b[0m\u001b[1;33m\u001b[0m\u001b[0m\n",
      "\u001b[1;31mModuleNotFoundError\u001b[0m: No module named 'google.colab'"
     ]
    }
   ],
   "source": [
    "from google.colab import drive\n",
    "drive.mount('/content/drive')"
   ]
  },
  {
   "cell_type": "code",
   "execution_count": null,
   "id": "79b0cda8",
   "metadata": {
    "id": "79b0cda8"
   },
   "outputs": [],
   "source": [
    "df = spark.read.csv(path=r'/content/drive/MyDrive/Data_Q1_2022/*',header= True ,inferSchema = True)\n",
    "#df.show(5)"
   ]
  },
  {
   "cell_type": "code",
   "execution_count": null,
   "id": "c73220b0",
   "metadata": {
    "id": "c73220b0"
   },
   "outputs": [],
   "source": [
    "#df.printSchema()"
   ]
  },
  {
   "cell_type": "code",
   "execution_count": null,
   "id": "8dfe4167",
   "metadata": {
    "colab": {
     "base_uri": "https://localhost:8080/"
    },
    "id": "8dfe4167",
    "outputId": "d7786bde-2264-4e16-fa0f-072fc24ae53e"
   },
   "outputs": [],
   "source": [
    "# Get row count\n",
    "rows = df.count()\n",
    "print(f\"DataFrame Rows count : {rows}\")\n",
    "# Get columns count\n",
    "cols = len(df.columns)\n",
    "print(f\"DataFrame Columns count : {cols}\")"
   ]
  },
  {
   "cell_type": "code",
   "execution_count": null,
   "id": "a8feb9cc",
   "metadata": {
    "id": "a8feb9cc"
   },
   "outputs": [],
   "source": [
    "#Find serialnumber with a failure\n",
    "fail_hds = df.select('serial_number').where(df.failure == 1).rdd.flatMap(lambda x: x).collect()\n",
    "print(fail_hds)"
   ]
  },
  {
   "cell_type": "code",
   "execution_count": 8,
   "id": "6786be32",
   "metadata": {
    "id": "6786be32"
   },
   "outputs": [],
   "source": [
    "from pyspark.sql.functions import col\n",
    "df_failures = df.filter(col(\"serial_number\").isin(fail_hds))\n",
    "#df_failures.show()"
   ]
  },
  {
   "cell_type": "markdown",
   "id": "bb6e07a3",
   "metadata": {
    "id": "bb6e07a3"
   },
   "source": [
    "### Create a data set that only includes the disks that failed."
   ]
  },
  {
   "cell_type": "code",
   "execution_count": 9,
   "id": "ebab8412",
   "metadata": {
    "id": "ebab8412"
   },
   "outputs": [],
   "source": [
    "#df_failures.printSchema()"
   ]
  },
  {
   "cell_type": "code",
   "execution_count": 10,
   "id": "c95657bb",
   "metadata": {
    "colab": {
     "base_uri": "https://localhost:8080/"
    },
    "id": "c95657bb",
    "outputId": "c8b07ff0-35a5-40f6-81b3-beed52ba0aec"
   },
   "outputs": [
    {
     "name": "stdout",
     "output_type": "stream",
     "text": [
      "DataFrame Rows count : 56249\n",
      "DataFrame Columns count : 179\n"
     ]
    }
   ],
   "source": [
    "# Get row count\n",
    "rows = df_failures.count()\n",
    "print(f\"DataFrame Rows count : {rows}\")\n",
    "# Get columns count\n",
    "cols = len(df_failures.columns)\n",
    "print(f\"DataFrame Columns count : {cols}\")"
   ]
  },
  {
   "cell_type": "markdown",
   "id": "9c442fde",
   "metadata": {
    "id": "9c442fde"
   },
   "source": [
    "### Create a data set that only includes the disks that never failed."
   ]
  },
  {
   "cell_type": "code",
   "execution_count": 11,
   "id": "ea91dea9",
   "metadata": {
    "id": "ea91dea9"
   },
   "outputs": [],
   "source": [
    "df_bysn = df.groupBy('serial_number').agg(F.sum(\"failure\").alias('sum_failure'))\n",
    "df_bysn=df_bysn.filter(df_bysn.sum_failure==0)\n",
    "\n",
    "df_bysn=df_bysn.select([c for c in df_bysn.columns if c in ['serial_number']])\n",
    "df_bysn=df_bysn.dropDuplicates(['serial_number'])\n",
    "\n",
    "df_bysn = df_bysn.withColumnRenamed(\"serial_number\",\"DOODEE\")\n",
    "\n",
    "df_nonfailures=df.join(df_bysn,(((df_bysn.DOODEE) ==  (df.serial_number))),\"inner\")\n",
    "df_nonfailures = df_nonfailures.drop(\"DOODEE\")"
   ]
  },
  {
   "cell_type": "code",
   "execution_count": 12,
   "id": "8ba93be7",
   "metadata": {
    "colab": {
     "base_uri": "https://localhost:8080/"
    },
    "id": "8ba93be7",
    "outputId": "b1c1a493-73c6-437d-94a2-6eeccff41202"
   },
   "outputs": [
    {
     "name": "stdout",
     "output_type": "stream",
     "text": [
      "DataFrame Rows count : 25183705\n",
      "DataFrame Columns count : 179\n"
     ]
    }
   ],
   "source": [
    "# Get row count\n",
    "rows = df_nonfailures.count()\n",
    "print(f\"DataFrame Rows count : {rows}\")\n",
    "# Get columns count\n",
    "cols = len(df_nonfailures.columns)\n",
    "print(f\"DataFrame Columns count : {cols}\")"
   ]
  },
  {
   "cell_type": "code",
   "execution_count": 13,
   "id": "c6554821",
   "metadata": {
    "id": "c6554821"
   },
   "outputs": [],
   "source": [
    "#Append the disks with failures and without failures into a single df\n",
    "df_total = reduce(DataFrame.unionAll, [df_failures,df_nonfailures])"
   ]
  },
  {
   "cell_type": "code",
   "execution_count": 14,
   "id": "a041d5b9",
   "metadata": {
    "colab": {
     "base_uri": "https://localhost:8080/"
    },
    "id": "a041d5b9",
    "outputId": "3d92507a-a3c1-4352-c5f5-45f343e8aadb"
   },
   "outputs": [
    {
     "data": {
      "text/plain": [
       "25239954"
      ]
     },
     "execution_count": 14,
     "metadata": {},
     "output_type": "execute_result"
    }
   ],
   "source": [
    "df_total.count()"
   ]
  },
  {
   "cell_type": "markdown",
   "id": "edf02573",
   "metadata": {
    "id": "edf02573"
   },
   "source": [
    "### Data Cleaning"
   ]
  },
  {
   "cell_type": "code",
   "execution_count": 15,
   "id": "487739ef",
   "metadata": {
    "colab": {
     "base_uri": "https://localhost:8080/"
    },
    "id": "487739ef",
    "outputId": "a844026d-8310-4354-a6fd-9e9faeeb1c5f"
   },
   "outputs": [
    {
     "name": "stdout",
     "output_type": "stream",
     "text": [
      "+----------------------------------+------------+\n",
      "|model                             |sum(failure)|\n",
      "+----------------------------------+------------+\n",
      "|ST8000NM0055                      |107         |\n",
      "|ST8000DM002                       |49          |\n",
      "|ST12000NM0008                     |102         |\n",
      "|ST4000DM000                       |168         |\n",
      "|HGST HMS5C4040ALE640              |24          |\n",
      "|ST14000NM001G                     |32          |\n",
      "|HGST HMS5C4040BLE640              |31          |\n",
      "|TOSHIBA MG07ACA14TA               |123         |\n",
      "|TOSHIBA MG08ACA16TE               |24          |\n",
      "|ST14000NM0138                     |25          |\n",
      "|HGST HUH721212ALE604              |28          |\n",
      "|ST16000NM001G                     |35          |\n",
      "|HGST HUH728080ALE600              |5           |\n",
      "|HGST HUH721212ALN604              |18          |\n",
      "|ST12000NM001G                     |28          |\n",
      "|TOSHIBA MQ01ABF050                |19          |\n",
      "|TOSHIBA MQ01ABF050M               |17          |\n",
      "|ST12000NM0007                     |26          |\n",
      "|Seagate BarraCuda SSD ZA250CM10002|3           |\n",
      "|ST500LM012 HN                     |14          |\n",
      "+----------------------------------+------------+\n",
      "only showing top 20 rows\n",
      "\n"
     ]
    }
   ],
   "source": [
    "from pyspark.sql.functions import desc\n",
    "df_total.groupBy(\"model\").sum(\"failure\").show(truncate=False)"
   ]
  },
  {
   "cell_type": "code",
   "execution_count": 16,
   "id": "66ca0e9d",
   "metadata": {
    "colab": {
     "base_uri": "https://localhost:8080/"
    },
    "id": "66ca0e9d",
    "outputId": "782d2906-ebc3-406f-e44a-5f4fc2fc8446"
   },
   "outputs": [
    {
     "name": "stdout",
     "output_type": "stream",
     "text": [
      "+---------------------+\n",
      "|count(DISTINCT model)|\n",
      "+---------------------+\n",
      "|                   69|\n",
      "+---------------------+\n",
      "\n"
     ]
    }
   ],
   "source": [
    "from pyspark.sql.functions import countDistinct\n",
    "df3=df_total.select(countDistinct(\"model\"))\n",
    "df3.show()"
   ]
  },
  {
   "cell_type": "code",
   "execution_count": 17,
   "id": "cfec2aa9",
   "metadata": {
    "colab": {
     "base_uri": "https://localhost:8080/"
    },
    "id": "cfec2aa9",
    "outputId": "4e4e1cfb-e6af-4139-8ac6-e407faea5892",
    "scrolled": true
   },
   "outputs": [
    {
     "name": "stdout",
     "output_type": "stream",
     "text": [
      "+-----------------------------+\n",
      "|count(DISTINCT serial_number)|\n",
      "+-----------------------------+\n",
      "|                       215655|\n",
      "+-----------------------------+\n",
      "\n"
     ]
    }
   ],
   "source": [
    "df4=df_total.select(countDistinct(\"serial_number\"))\n",
    "df4.show()"
   ]
  },
  {
   "cell_type": "code",
   "execution_count": 18,
   "id": "296b612d",
   "metadata": {
    "id": "296b612d"
   },
   "outputs": [],
   "source": [
    "#There are 912 disk drives that failed and 214743 that did not fail. so failure rate is about .42%.\n",
    "\n",
    "#Applying filter the top num_disks most frequent non-failed disks (i.e., disks with the most records in the dataset).\n",
    "\n",
    "#The line of code .limit(num_disks) ensures that only the specified number of top records are returned.\n",
    "\n",
    "#for efficiency in computation and also due to resource constraints, there is need to limit the data.\n"
   ]
  },
  {
   "cell_type": "code",
   "execution_count": 19,
   "id": "c67de9d7",
   "metadata": {
    "id": "c67de9d7"
   },
   "outputs": [],
   "source": [
    "num_disks = 1000\n",
    "\n",
    "# Get failed serial numbers\n",
    "failed_serial_numbers = df_total.filter(df_total['failure'] == 1).select('serial_number').distinct().rdd.flatMap(lambda x: x).collect()\n",
    "\n",
    "# Get serial numbers for disks that didn't fail - first remove failed disks\n",
    "df_tmp = df_total.filter(~df_total.serial_number.isin(failed_serial_numbers))\n",
    "nonfailed_serial_numbers = df_tmp.groupBy('serial_number').count().orderBy('count', ascending=False).limit(num_disks).rdd.map(lambda x: x[0]).collect()\n"
   ]
  },
  {
   "cell_type": "code",
   "execution_count": 20,
   "id": "afdd04f1",
   "metadata": {
    "id": "afdd04f1"
   },
   "outputs": [],
   "source": [
    "#Convert the date column to datetime format\n",
    "df_total=df_total.withColumnRenamed(\"date\",\"INPUT\")\n",
    "\n",
    "from pyspark.sql.functions import *\n",
    "\n",
    "df_total=df_total.select(to_date(col(\"INPUT\"),\"y-M-dd\").alias(\"date\"), \"*\")\n",
    "df_total = df_total.drop(\"INPUT\").cache()\n"
   ]
  },
  {
   "cell_type": "markdown",
   "id": "a0bab06e-984d-4e0b-af82-8b59cbfaa7dd",
   "metadata": {},
   "source": [
    "### Ensure there are no missing dates"
   ]
  },
  {
   "cell_type": "code",
   "execution_count": 21,
   "id": "bee49747",
   "metadata": {
    "id": "bee49747"
   },
   "outputs": [],
   "source": [
    "# sort data by serial number and dates\n",
    "\n",
    "df_total = df_total.orderBy(['serial_number', 'date'], ascending=[True, True])"
   ]
  },
  {
   "cell_type": "code",
   "execution_count": 22,
   "id": "j_y--zq4eCin",
   "metadata": {
    "id": "j_y--zq4eCin"
   },
   "outputs": [],
   "source": [
    "from pyspark.sql.window import Window\n",
    "from pyspark.sql.functions import row_number\n",
    "windowSpec  = Window.partitionBy(\"serial_number\").orderBy(\"date\")\n",
    "\n",
    "dfzz1=df_total.withColumn(\"ROW\",row_number().over(windowSpec))\n",
    "dfzz=dfzz1\n",
    "\n",
    "\n",
    "\n",
    "\n",
    "\n",
    "\n"
   ]
  },
  {
   "cell_type": "code",
   "execution_count": 23,
   "id": "c4j1kdKIttyd",
   "metadata": {
    "id": "c4j1kdKIttyd"
   },
   "outputs": [],
   "source": [
    "#select the relevant fields\n",
    "dfzz=dfzz.select([c for c in dfzz.columns if c in ['serial_number', 'date','ROW']])\n",
    "#sort the data\n",
    "dfzz=dfzz.sort((['serial_number','ROW']))\n",
    "#add one to row.\n",
    "df_1x = dfzz.withColumn('ROW_1', ( dfzz['ROW'] + 1 ) )\n",
    "#get rid of ROW\n",
    "df_1x = df_1x.drop(\"ROW\")\n",
    "df_1=df_1x"
   ]
  },
  {
   "cell_type": "code",
   "execution_count": 24,
   "id": "qgLXCuCxfm_Y",
   "metadata": {
    "id": "qgLXCuCxfm_Y"
   },
   "outputs": [],
   "source": [
    "#Rename the variables\n",
    "df_1=df_1.withColumnRenamed(\"serial_number\",\"SERIAL_NUMBER_1\")\n",
    "df_1=df_1.withColumnRenamed(\"date\",\"DATE_1\")\n",
    "#merge to the original df\n",
    "dfzz=dfzz.join(df_1,(((dfzz.ROW) ==  (df_1.ROW_1)) & ((dfzz.serial_number) ==  (df_1.SERIAL_NUMBER_1))),\"inner\")\n"
   ]
  },
  {
   "cell_type": "code",
   "execution_count": 25,
   "id": "441kMdQzfm8q",
   "metadata": {
    "id": "441kMdQzfm8q"
   },
   "outputs": [],
   "source": [
    "from pyspark.sql.functions import *\n",
    "dfzz=dfzz.select(\n",
    "      col(\"serial_number\"),\n",
    "      col(\"date\"),\n",
    "      col(\"DATE_1\"),\n",
    "      datediff(col(\"date\"),col(\"DATE_1\")).alias(\"datediff\"))"
   ]
  },
  {
   "cell_type": "code",
   "execution_count": 26,
   "id": "lM9oQ17Nfm6C",
   "metadata": {
    "id": "lM9oQ17Nfm6C"
   },
   "outputs": [],
   "source": [
    "v=(dfzz.groupBy(\"serial_number\")\n",
    "    .agg(max(\"datediff\")))\n",
    "v = v.withColumnRenamed(\"max(datediff)\",\"MAXDATEDIFF\")\n",
    "v = v.withColumnRenamed(\"serial_number\",\"DOODEE\")"
   ]
  },
  {
   "cell_type": "code",
   "execution_count": 27,
   "id": "gZs1bBi9fmpP",
   "metadata": {
    "id": "gZs1bBi9fmpP"
   },
   "outputs": [],
   "source": [
    "v=v.filter(v.MAXDATEDIFF==1)"
   ]
  },
  {
   "cell_type": "code",
   "execution_count": 28,
   "id": "2H4QGCcYvttR",
   "metadata": {
    "id": "2H4QGCcYvttR"
   },
   "outputs": [],
   "source": [
    "v=v.select([c for c in v.columns if c in ['DOODEE']])\n",
    "\n",
    "df_total=df_total.join(v,(((df_total.serial_number) ==  (v.DOODEE))),\"inner\")\n",
    "df_total = df_total.drop(\"DOODEE\")"
   ]
  },
  {
   "cell_type": "code",
   "execution_count": 29,
   "id": "C4fwPn1Ivtn2",
   "metadata": {
    "id": "C4fwPn1Ivtn2"
   },
   "outputs": [],
   "source": [
    "## Sample the data set to fit environment\n"
   ]
  },
  {
   "cell_type": "code",
   "execution_count": 30,
   "id": "uGnhNMkqvtlG",
   "metadata": {
    "id": "uGnhNMkqvtlG"
   },
   "outputs": [],
   "source": [
    "df_bysn = df_total.groupBy('serial_number').agg(F.sum(\"failure\").alias('sum_failure'))\n",
    "df_nonfailurelist=df_bysn.filter(df_bysn.sum_failure==0)\n",
    "df_failurelist=df_bysn.filter(df_bysn.sum_failure>0)\n",
    "df_q = df_failurelist.unionByName(df_nonfailurelist)\n",
    "#df_q.groupBy(\"sum_failure\").count().show()"
   ]
  },
  {
   "cell_type": "code",
   "execution_count": 31,
   "id": "FZmrgJwlvtiC",
   "metadata": {
    "id": "FZmrgJwlvtiC"
   },
   "outputs": [],
   "source": [
    "df_2022=df_total\n"
   ]
  },
  {
   "cell_type": "code",
   "execution_count": 32,
   "id": "bsOStTtuvsj4",
   "metadata": {
    "id": "bsOStTtuvsj4"
   },
   "outputs": [],
   "source": [
    "#identify disks with a failure\n",
    "df_failure=df_2022.filter(df_2022.failure ==1)\n",
    "#keep relevant columns\n",
    "df_failure=df_failure.select([c for c in df_failure.columns if c in ['serial_number']])\n",
    "#dedup the data\n",
    "df_failure=df_failure.dropDuplicates(['serial_number'])\n",
    "#assign a random number to each serial number\n",
    "df_failure=df_failure.withColumn('wookie', rand())\n",
    "#sort by the random number\n",
    "df_failure=df_failure.sort((\"wookie\"))\n",
    "\n",
    "#keep the first 1000 records\n",
    "df_failure=df_failure.limit(1000)\n",
    "\n",
    "#clean up the data\n",
    "df_failure_list = df_failure.withColumnRenamed(\"serial_number\",\"DOODEE\")\n",
    "df_failure_list = df_failure_list.drop(\"wookie\")\n",
    "\n",
    "#conduct an inner join to the original data results set will be all records for the 1000 randomly selected disks\n",
    "df_failure=df_2022.join(df_failure_list,(((df_failure_list.DOODEE) ==  (df_2022.serial_number))),\"inner\")\n",
    "df_failure = df_failure.drop(\"DOODEE\")"
   ]
  },
  {
   "cell_type": "code",
   "execution_count": 33,
   "id": "x5C1wfyWvshI",
   "metadata": {
    "id": "x5C1wfyWvshI"
   },
   "outputs": [],
   "source": [
    "#identify disks that did not fail\n",
    "df_bysn = df_2022.groupBy('serial_number').agg(F.sum(\"failure\").alias('sum_failure'))\n",
    "df_nonfailurelist=df_bysn.filter(df_bysn.sum_failure==0)\n",
    "#keep relevant variables\n",
    "df_nonfailurelist=df_nonfailurelist.select([c for c in df_nonfailurelist.columns if c in ['serial_number']])\n",
    "#ensure no duplicates\n",
    "df_nonfailurelist=df_nonfailurelist.dropDuplicates(['serial_number'])\n",
    "#create a random number for each disk\n",
    "df_nonfailurelist=df_nonfailurelist.withColumn('wookie', rand())\n",
    "#sort the disks by the random number\n",
    "df_nonfailurelist=df_nonfailurelist.sort((\"wookie\"))\n",
    "#keep 1000 randomly selected disks.\n",
    "df_nonfailurelist=df_nonfailurelist.limit(1000)\n",
    "\n",
    "\n",
    "#clean up the data\n",
    "df_nonfailurelist = df_nonfailurelist.withColumnRenamed(\"serial_number\",\"DOODEE\")\n",
    "df_nonfailurelist = df_nonfailurelist.drop(\"wookie\")\n",
    "#join to the original data.  The results set will be the all records from the randomly selected disks\n",
    "df_nonfailures=df_2022.join(df_nonfailurelist,(((df_nonfailurelist.DOODEE) ==  (df_2022.serial_number))),\"inner\")\n",
    "df_nonfailures = df_nonfailures.drop(\"DOODEE\")"
   ]
  },
  {
   "cell_type": "code",
   "execution_count": 34,
   "id": "UszDlziIvsee",
   "metadata": {
    "id": "UszDlziIvsee"
   },
   "outputs": [],
   "source": [
    "df_total = df_failure.unionByName(df_nonfailures)"
   ]
  },
  {
   "cell_type": "code",
   "execution_count": 35,
   "id": "BKUpwJz-wQZC",
   "metadata": {
    "colab": {
     "base_uri": "https://localhost:8080/"
    },
    "id": "BKUpwJz-wQZC",
    "outputId": "2911880f-12f5-4ddb-b609-bba49120f287"
   },
   "outputs": [
    {
     "data": {
      "text/plain": [
       "168285"
      ]
     },
     "execution_count": 35,
     "metadata": {},
     "output_type": "execute_result"
    }
   ],
   "source": [
    "df_total.count()"
   ]
  },
  {
   "cell_type": "code",
   "execution_count": 44,
   "id": "F7YhRBStjh6a",
   "metadata": {
    "colab": {
     "base_uri": "https://localhost:8080/",
     "height": 342
    },
    "id": "F7YhRBStjh6a",
    "outputId": "bf7a24ec-c22a-4d10-cf89-04b5e8f7faad"
   },
   "outputs": [
    {
     "data": {
      "text/html": [
       "\n",
       "  <div id=\"df-0fa5fd3c-ac0e-46de-9f00-d0960c39047e\" class=\"colab-df-container\">\n",
       "    <div>\n",
       "<style scoped>\n",
       "    .dataframe tbody tr th:only-of-type {\n",
       "        vertical-align: middle;\n",
       "    }\n",
       "\n",
       "    .dataframe tbody tr th {\n",
       "        vertical-align: top;\n",
       "    }\n",
       "\n",
       "    .dataframe thead th {\n",
       "        text-align: right;\n",
       "    }\n",
       "</style>\n",
       "<table border=\"1\" class=\"dataframe\">\n",
       "  <thead>\n",
       "    <tr style=\"text-align: right;\">\n",
       "      <th></th>\n",
       "      <th>date</th>\n",
       "      <th>serial_number</th>\n",
       "      <th>model</th>\n",
       "      <th>capacity_bytes</th>\n",
       "      <th>failure</th>\n",
       "      <th>smart_1_normalized</th>\n",
       "      <th>smart_1_raw</th>\n",
       "      <th>smart_2_normalized</th>\n",
       "      <th>smart_2_raw</th>\n",
       "      <th>smart_3_normalized</th>\n",
       "      <th>...</th>\n",
       "      <th>smart_250_normalized</th>\n",
       "      <th>smart_250_raw</th>\n",
       "      <th>smart_251_normalized</th>\n",
       "      <th>smart_251_raw</th>\n",
       "      <th>smart_252_normalized</th>\n",
       "      <th>smart_252_raw</th>\n",
       "      <th>smart_254_normalized</th>\n",
       "      <th>smart_254_raw</th>\n",
       "      <th>smart_255_normalized</th>\n",
       "      <th>smart_255_raw</th>\n",
       "    </tr>\n",
       "  </thead>\n",
       "  <tbody>\n",
       "    <tr>\n",
       "      <th>0</th>\n",
       "      <td>2022-03-20</td>\n",
       "      <td>11W0A06FF97G</td>\n",
       "      <td>TOSHIBA MG07ACA14TA</td>\n",
       "      <td>14000519643136</td>\n",
       "      <td>1</td>\n",
       "      <td>100.0</td>\n",
       "      <td>0.0</td>\n",
       "      <td>100.0</td>\n",
       "      <td>0.0</td>\n",
       "      <td>100.0</td>\n",
       "      <td>...</td>\n",
       "      <td>None</td>\n",
       "      <td>None</td>\n",
       "      <td>None</td>\n",
       "      <td>None</td>\n",
       "      <td>None</td>\n",
       "      <td>None</td>\n",
       "      <td>NaN</td>\n",
       "      <td>NaN</td>\n",
       "      <td>None</td>\n",
       "      <td>None</td>\n",
       "    </tr>\n",
       "    <tr>\n",
       "      <th>1</th>\n",
       "      <td>2022-03-17</td>\n",
       "      <td>11W0A06FF97G</td>\n",
       "      <td>TOSHIBA MG07ACA14TA</td>\n",
       "      <td>14000519643136</td>\n",
       "      <td>0</td>\n",
       "      <td>100.0</td>\n",
       "      <td>0.0</td>\n",
       "      <td>100.0</td>\n",
       "      <td>0.0</td>\n",
       "      <td>100.0</td>\n",
       "      <td>...</td>\n",
       "      <td>None</td>\n",
       "      <td>None</td>\n",
       "      <td>None</td>\n",
       "      <td>None</td>\n",
       "      <td>None</td>\n",
       "      <td>None</td>\n",
       "      <td>NaN</td>\n",
       "      <td>NaN</td>\n",
       "      <td>None</td>\n",
       "      <td>None</td>\n",
       "    </tr>\n",
       "    <tr>\n",
       "      <th>2</th>\n",
       "      <td>2022-03-18</td>\n",
       "      <td>11W0A06FF97G</td>\n",
       "      <td>TOSHIBA MG07ACA14TA</td>\n",
       "      <td>14000519643136</td>\n",
       "      <td>0</td>\n",
       "      <td>100.0</td>\n",
       "      <td>0.0</td>\n",
       "      <td>100.0</td>\n",
       "      <td>0.0</td>\n",
       "      <td>100.0</td>\n",
       "      <td>...</td>\n",
       "      <td>None</td>\n",
       "      <td>None</td>\n",
       "      <td>None</td>\n",
       "      <td>None</td>\n",
       "      <td>None</td>\n",
       "      <td>None</td>\n",
       "      <td>NaN</td>\n",
       "      <td>NaN</td>\n",
       "      <td>None</td>\n",
       "      <td>None</td>\n",
       "    </tr>\n",
       "    <tr>\n",
       "      <th>3</th>\n",
       "      <td>2022-03-08</td>\n",
       "      <td>11W0A06FF97G</td>\n",
       "      <td>TOSHIBA MG07ACA14TA</td>\n",
       "      <td>14000519643136</td>\n",
       "      <td>0</td>\n",
       "      <td>100.0</td>\n",
       "      <td>0.0</td>\n",
       "      <td>100.0</td>\n",
       "      <td>0.0</td>\n",
       "      <td>100.0</td>\n",
       "      <td>...</td>\n",
       "      <td>None</td>\n",
       "      <td>None</td>\n",
       "      <td>None</td>\n",
       "      <td>None</td>\n",
       "      <td>None</td>\n",
       "      <td>None</td>\n",
       "      <td>NaN</td>\n",
       "      <td>NaN</td>\n",
       "      <td>None</td>\n",
       "      <td>None</td>\n",
       "    </tr>\n",
       "    <tr>\n",
       "      <th>4</th>\n",
       "      <td>2022-03-19</td>\n",
       "      <td>11W0A06FF97G</td>\n",
       "      <td>TOSHIBA MG07ACA14TA</td>\n",
       "      <td>14000519643136</td>\n",
       "      <td>0</td>\n",
       "      <td>100.0</td>\n",
       "      <td>0.0</td>\n",
       "      <td>100.0</td>\n",
       "      <td>0.0</td>\n",
       "      <td>100.0</td>\n",
       "      <td>...</td>\n",
       "      <td>None</td>\n",
       "      <td>None</td>\n",
       "      <td>None</td>\n",
       "      <td>None</td>\n",
       "      <td>None</td>\n",
       "      <td>None</td>\n",
       "      <td>NaN</td>\n",
       "      <td>NaN</td>\n",
       "      <td>None</td>\n",
       "      <td>None</td>\n",
       "    </tr>\n",
       "  </tbody>\n",
       "</table>\n",
       "<p>5 rows × 179 columns</p>\n",
       "</div>\n",
       "    <div class=\"colab-df-buttons\">\n",
       "\n",
       "  <div class=\"colab-df-container\">\n",
       "    <button class=\"colab-df-convert\" onclick=\"convertToInteractive('df-0fa5fd3c-ac0e-46de-9f00-d0960c39047e')\"\n",
       "            title=\"Convert this dataframe to an interactive table.\"\n",
       "            style=\"display:none;\">\n",
       "\n",
       "  <svg xmlns=\"http://www.w3.org/2000/svg\" height=\"24px\" viewBox=\"0 -960 960 960\">\n",
       "    <path d=\"M120-120v-720h720v720H120Zm60-500h600v-160H180v160Zm220 220h160v-160H400v160Zm0 220h160v-160H400v160ZM180-400h160v-160H180v160Zm440 0h160v-160H620v160ZM180-180h160v-160H180v160Zm440 0h160v-160H620v160Z\"/>\n",
       "  </svg>\n",
       "    </button>\n",
       "\n",
       "  <style>\n",
       "    .colab-df-container {\n",
       "      display:flex;\n",
       "      gap: 12px;\n",
       "    }\n",
       "\n",
       "    .colab-df-convert {\n",
       "      background-color: #E8F0FE;\n",
       "      border: none;\n",
       "      border-radius: 50%;\n",
       "      cursor: pointer;\n",
       "      display: none;\n",
       "      fill: #1967D2;\n",
       "      height: 32px;\n",
       "      padding: 0 0 0 0;\n",
       "      width: 32px;\n",
       "    }\n",
       "\n",
       "    .colab-df-convert:hover {\n",
       "      background-color: #E2EBFA;\n",
       "      box-shadow: 0px 1px 2px rgba(60, 64, 67, 0.3), 0px 1px 3px 1px rgba(60, 64, 67, 0.15);\n",
       "      fill: #174EA6;\n",
       "    }\n",
       "\n",
       "    .colab-df-buttons div {\n",
       "      margin-bottom: 4px;\n",
       "    }\n",
       "\n",
       "    [theme=dark] .colab-df-convert {\n",
       "      background-color: #3B4455;\n",
       "      fill: #D2E3FC;\n",
       "    }\n",
       "\n",
       "    [theme=dark] .colab-df-convert:hover {\n",
       "      background-color: #434B5C;\n",
       "      box-shadow: 0px 1px 3px 1px rgba(0, 0, 0, 0.15);\n",
       "      filter: drop-shadow(0px 1px 2px rgba(0, 0, 0, 0.3));\n",
       "      fill: #FFFFFF;\n",
       "    }\n",
       "  </style>\n",
       "\n",
       "    <script>\n",
       "      const buttonEl =\n",
       "        document.querySelector('#df-0fa5fd3c-ac0e-46de-9f00-d0960c39047e button.colab-df-convert');\n",
       "      buttonEl.style.display =\n",
       "        google.colab.kernel.accessAllowed ? 'block' : 'none';\n",
       "\n",
       "      async function convertToInteractive(key) {\n",
       "        const element = document.querySelector('#df-0fa5fd3c-ac0e-46de-9f00-d0960c39047e');\n",
       "        const dataTable =\n",
       "          await google.colab.kernel.invokeFunction('convertToInteractive',\n",
       "                                                    [key], {});\n",
       "        if (!dataTable) return;\n",
       "\n",
       "        const docLinkHtml = 'Like what you see? Visit the ' +\n",
       "          '<a target=\"_blank\" href=https://colab.research.google.com/notebooks/data_table.ipynb>data table notebook</a>'\n",
       "          + ' to learn more about interactive tables.';\n",
       "        element.innerHTML = '';\n",
       "        dataTable['output_type'] = 'display_data';\n",
       "        await google.colab.output.renderOutput(dataTable, element);\n",
       "        const docLink = document.createElement('div');\n",
       "        docLink.innerHTML = docLinkHtml;\n",
       "        element.appendChild(docLink);\n",
       "      }\n",
       "    </script>\n",
       "  </div>\n",
       "\n",
       "\n",
       "<div id=\"df-d227c86b-f2e5-4406-8998-a83fd2c126c8\">\n",
       "  <button class=\"colab-df-quickchart\" onclick=\"quickchart('df-d227c86b-f2e5-4406-8998-a83fd2c126c8')\"\n",
       "            title=\"Suggest charts.\"\n",
       "            style=\"display:none;\">\n",
       "\n",
       "<svg xmlns=\"http://www.w3.org/2000/svg\" height=\"24px\"viewBox=\"0 0 24 24\"\n",
       "     width=\"24px\">\n",
       "    <g>\n",
       "        <path d=\"M19 3H5c-1.1 0-2 .9-2 2v14c0 1.1.9 2 2 2h14c1.1 0 2-.9 2-2V5c0-1.1-.9-2-2-2zM9 17H7v-7h2v7zm4 0h-2V7h2v10zm4 0h-2v-4h2v4z\"/>\n",
       "    </g>\n",
       "</svg>\n",
       "  </button>\n",
       "\n",
       "<style>\n",
       "  .colab-df-quickchart {\n",
       "      --bg-color: #E8F0FE;\n",
       "      --fill-color: #1967D2;\n",
       "      --hover-bg-color: #E2EBFA;\n",
       "      --hover-fill-color: #174EA6;\n",
       "      --disabled-fill-color: #AAA;\n",
       "      --disabled-bg-color: #DDD;\n",
       "  }\n",
       "\n",
       "  [theme=dark] .colab-df-quickchart {\n",
       "      --bg-color: #3B4455;\n",
       "      --fill-color: #D2E3FC;\n",
       "      --hover-bg-color: #434B5C;\n",
       "      --hover-fill-color: #FFFFFF;\n",
       "      --disabled-bg-color: #3B4455;\n",
       "      --disabled-fill-color: #666;\n",
       "  }\n",
       "\n",
       "  .colab-df-quickchart {\n",
       "    background-color: var(--bg-color);\n",
       "    border: none;\n",
       "    border-radius: 50%;\n",
       "    cursor: pointer;\n",
       "    display: none;\n",
       "    fill: var(--fill-color);\n",
       "    height: 32px;\n",
       "    padding: 0;\n",
       "    width: 32px;\n",
       "  }\n",
       "\n",
       "  .colab-df-quickchart:hover {\n",
       "    background-color: var(--hover-bg-color);\n",
       "    box-shadow: 0 1px 2px rgba(60, 64, 67, 0.3), 0 1px 3px 1px rgba(60, 64, 67, 0.15);\n",
       "    fill: var(--button-hover-fill-color);\n",
       "  }\n",
       "\n",
       "  .colab-df-quickchart-complete:disabled,\n",
       "  .colab-df-quickchart-complete:disabled:hover {\n",
       "    background-color: var(--disabled-bg-color);\n",
       "    fill: var(--disabled-fill-color);\n",
       "    box-shadow: none;\n",
       "  }\n",
       "\n",
       "  .colab-df-spinner {\n",
       "    border: 2px solid var(--fill-color);\n",
       "    border-color: transparent;\n",
       "    border-bottom-color: var(--fill-color);\n",
       "    animation:\n",
       "      spin 1s steps(1) infinite;\n",
       "  }\n",
       "\n",
       "  @keyframes spin {\n",
       "    0% {\n",
       "      border-color: transparent;\n",
       "      border-bottom-color: var(--fill-color);\n",
       "      border-left-color: var(--fill-color);\n",
       "    }\n",
       "    20% {\n",
       "      border-color: transparent;\n",
       "      border-left-color: var(--fill-color);\n",
       "      border-top-color: var(--fill-color);\n",
       "    }\n",
       "    30% {\n",
       "      border-color: transparent;\n",
       "      border-left-color: var(--fill-color);\n",
       "      border-top-color: var(--fill-color);\n",
       "      border-right-color: var(--fill-color);\n",
       "    }\n",
       "    40% {\n",
       "      border-color: transparent;\n",
       "      border-right-color: var(--fill-color);\n",
       "      border-top-color: var(--fill-color);\n",
       "    }\n",
       "    60% {\n",
       "      border-color: transparent;\n",
       "      border-right-color: var(--fill-color);\n",
       "    }\n",
       "    80% {\n",
       "      border-color: transparent;\n",
       "      border-right-color: var(--fill-color);\n",
       "      border-bottom-color: var(--fill-color);\n",
       "    }\n",
       "    90% {\n",
       "      border-color: transparent;\n",
       "      border-bottom-color: var(--fill-color);\n",
       "    }\n",
       "  }\n",
       "</style>\n",
       "\n",
       "  <script>\n",
       "    async function quickchart(key) {\n",
       "      const quickchartButtonEl =\n",
       "        document.querySelector('#' + key + ' button');\n",
       "      quickchartButtonEl.disabled = true;  // To prevent multiple clicks.\n",
       "      quickchartButtonEl.classList.add('colab-df-spinner');\n",
       "      try {\n",
       "        const charts = await google.colab.kernel.invokeFunction(\n",
       "            'suggestCharts', [key], {});\n",
       "      } catch (error) {\n",
       "        console.error('Error during call to suggestCharts:', error);\n",
       "      }\n",
       "      quickchartButtonEl.classList.remove('colab-df-spinner');\n",
       "      quickchartButtonEl.classList.add('colab-df-quickchart-complete');\n",
       "    }\n",
       "    (() => {\n",
       "      let quickchartButtonEl =\n",
       "        document.querySelector('#df-d227c86b-f2e5-4406-8998-a83fd2c126c8 button');\n",
       "      quickchartButtonEl.style.display =\n",
       "        google.colab.kernel.accessAllowed ? 'block' : 'none';\n",
       "    })();\n",
       "  </script>\n",
       "</div>\n",
       "    </div>\n",
       "  </div>\n"
      ],
      "text/plain": [
       "         date serial_number                model  capacity_bytes  failure  \\\n",
       "0  2022-03-20  11W0A06FF97G  TOSHIBA MG07ACA14TA  14000519643136        1   \n",
       "1  2022-03-17  11W0A06FF97G  TOSHIBA MG07ACA14TA  14000519643136        0   \n",
       "2  2022-03-18  11W0A06FF97G  TOSHIBA MG07ACA14TA  14000519643136        0   \n",
       "3  2022-03-08  11W0A06FF97G  TOSHIBA MG07ACA14TA  14000519643136        0   \n",
       "4  2022-03-19  11W0A06FF97G  TOSHIBA MG07ACA14TA  14000519643136        0   \n",
       "\n",
       "   smart_1_normalized  smart_1_raw  smart_2_normalized  smart_2_raw  \\\n",
       "0               100.0          0.0               100.0          0.0   \n",
       "1               100.0          0.0               100.0          0.0   \n",
       "2               100.0          0.0               100.0          0.0   \n",
       "3               100.0          0.0               100.0          0.0   \n",
       "4               100.0          0.0               100.0          0.0   \n",
       "\n",
       "   smart_3_normalized  ...  smart_250_normalized  smart_250_raw  \\\n",
       "0               100.0  ...                  None           None   \n",
       "1               100.0  ...                  None           None   \n",
       "2               100.0  ...                  None           None   \n",
       "3               100.0  ...                  None           None   \n",
       "4               100.0  ...                  None           None   \n",
       "\n",
       "   smart_251_normalized  smart_251_raw  smart_252_normalized  smart_252_raw  \\\n",
       "0                  None           None                  None           None   \n",
       "1                  None           None                  None           None   \n",
       "2                  None           None                  None           None   \n",
       "3                  None           None                  None           None   \n",
       "4                  None           None                  None           None   \n",
       "\n",
       "   smart_254_normalized  smart_254_raw  smart_255_normalized  smart_255_raw  \n",
       "0                   NaN            NaN                  None           None  \n",
       "1                   NaN            NaN                  None           None  \n",
       "2                   NaN            NaN                  None           None  \n",
       "3                   NaN            NaN                  None           None  \n",
       "4                   NaN            NaN                  None           None  \n",
       "\n",
       "[5 rows x 179 columns]"
      ]
     },
     "execution_count": 44,
     "metadata": {},
     "output_type": "execute_result"
    }
   ],
   "source": [
    "data = df_total.toPandas()\n",
    "data.head()"
   ]
  },
  {
   "cell_type": "code",
   "execution_count": 45,
   "id": "mhl6EFEGw9Wp",
   "metadata": {
    "id": "mhl6EFEGw9Wp"
   },
   "outputs": [],
   "source": [
    "data.to_csv(r'/content/drive/MyDrive/data_cleaned.csv', sep='\\t', encoding='utf-8',index=True)"
   ]
  }
 ],
 "metadata": {
  "colab": {
   "machine_shape": "hm",
   "provenance": []
  },
  "kernelspec": {
   "display_name": "Python 3 (ipykernel)",
   "language": "python",
   "name": "python3"
  },
  "language_info": {
   "codemirror_mode": {
    "name": "ipython",
    "version": 3
   },
   "file_extension": ".py",
   "mimetype": "text/x-python",
   "name": "python",
   "nbconvert_exporter": "python",
   "pygments_lexer": "ipython3",
   "version": "3.9.7"
  }
 },
 "nbformat": 4,
 "nbformat_minor": 5
}
