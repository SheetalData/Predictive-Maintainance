{
 "cells": [
  {
   "cell_type": "code",
   "execution_count": 8,
   "id": "d1f5099b-d3ec-4724-93b5-373e75eb172a",
   "metadata": {},
   "outputs": [],
   "source": [
    "import numpy as np\n",
    "import pandas as pd\n",
    "from keras.models import Sequential\n",
    "from keras.layers import LSTM, Dense, Dropout\n",
    "\n"
   ]
  },
  {
   "cell_type": "code",
   "execution_count": 9,
   "id": "d5db4e34-cfbf-4a62-b1da-d3d819f05485",
   "metadata": {},
   "outputs": [],
   "source": [
    "# Load and preprocess data\n",
    "data1 = pd.read_csv(r\"C:\\Users\\sheet\\Dataset\\data_Q2_2022\\dataq2.csv\",encoding='utf-8',header=0)\n",
    "filter_col = [col for col in data1 if col.endswith('_raw')]\n",
    "data = data1.drop(columns= filter_col)\n",
    "\n"
   ]
  },
  {
   "cell_type": "code",
   "execution_count": 10,
   "id": "5fcaed6a-9d70-433c-b38c-2cab2222784d",
   "metadata": {},
   "outputs": [],
   "source": [
    "import pandas as pd\n",
    "from sklearn.model_selection import train_test_split\n",
    "\n",
    "\n",
    "\n",
    "# Get the unique combinations of serial_number and model\n",
    "unique_combinations = data[['serial_number', 'model']].drop_duplicates()\n",
    "\n",
    "# Split the unique combinations into training and testing sets\n",
    "train_combinations, test_combinations = train_test_split(unique_combinations, test_size=0.3, random_state=42)\n",
    "\n",
    "# Filter the original dataset by the training and testing combinations\n",
    "train = pd.merge(data, train_combinations, on=['serial_number', 'model'])\n",
    "test = pd.merge(data, test_combinations, on=['serial_number', 'model'])\n",
    "\n",
    "# Check that each unique combination of serial number and model is not present in both sets\n",
    "assert len(set(train_combinations.index) & set(test_combinations.index)) == 0\n"
   ]
  },
  {
   "cell_type": "code",
   "execution_count": 19,
   "id": "d883b7f8-7e1b-4c77-8f58-c7a065d1770b",
   "metadata": {},
   "outputs": [],
   "source": [
    "# Selected features(using Boruta Feature selection technique)\n",
    "input_cols = ['smart_1_normalized', 'smart_5_normalized', 'smart_9_normalized', 'smart_12_normalized', 'smart_187_normalized', 'smart_194_normalized', 'smart_197_normalized', 'smart_198_normalized','failure']\n"
   ]
  },
  {
   "cell_type": "code",
   "execution_count": 16,
   "id": "19ec733b-8a18-4e35-b547-a03979ead77d",
   "metadata": {},
   "outputs": [],
   "source": [
    "train_data = train[input_cols]\n",
    "test_data =  test[input_cols]"
   ]
  },
  {
   "cell_type": "code",
   "execution_count": 17,
   "id": "00bccb80-6e73-4fb3-a9c7-f70f80536c01",
   "metadata": {},
   "outputs": [],
   "source": [
    "# Define input and output sequences for LSTM network\n",
    "seq_length = 30  # Length of each input sequence\n",
    "X_train = []\n",
    "y_train = []\n",
    "for i in range(len(train_data) - seq_length - 1):\n",
    "    X_train.append(train_data.iloc[i:i+seq_length].values)\n",
    "    y_train.append(train_data.iloc[i+seq_length]['failure'])\n",
    "X_train = np.array(X_train)\n",
    "y_train = np.array(y_train)\n",
    "\n",
    "X_test = []\n",
    "y_test = []\n",
    "for i in range(len(test_data) - seq_length - 1):\n",
    "    X_test.append(test_data.iloc[i:i+seq_length].values)\n",
    "    y_test.append(test_data.iloc[i+seq_length]['failure'])\n",
    "X_test = np.array(X_test)\n",
    "y_test = np.array(y_test)\n",
    "\n",
    "\n"
   ]
  },
  {
   "cell_type": "code",
   "execution_count": 18,
   "id": "88e8b656-a5fb-468e-b72f-69260555f74a",
   "metadata": {},
   "outputs": [],
   "source": [
    "# Build LSTM model\n",
    "model = Sequential()\n",
    "model.add(LSTM(128, input_shape=(X_train.shape[1], X_train.shape[2]), return_sequences=True))\n",
    "model.add(Dropout(0.2))\n",
    "model.add(LSTM(128, return_sequences=True))\n",
    "model.add(Dropout(0.2))\n",
    "model.add(LSTM(128))\n",
    "model.add(Dropout(0.2))\n",
    "model.add(Dense(1, activation='sigmoid'))\n",
    "model.compile(loss='binary_crossentropy', optimizer='adam', metrics=['accuracy'])\n",
    "\n"
   ]
  },
  {
   "cell_type": "code",
   "execution_count": 20,
   "id": "56f4b730-4a23-474b-b603-68bfd12569f0",
   "metadata": {},
   "outputs": [
    {
     "name": "stdout",
     "output_type": "stream",
     "text": [
      "Epoch 1/50\n",
      "2986/2986 [==============================] - 463s 152ms/step - loss: nan - accuracy: 0.9893\n",
      "Epoch 2/50\n",
      "2986/2986 [==============================] - 3409s 1s/step - loss: nan - accuracy: 0.9893\n",
      "Epoch 3/50\n",
      "2986/2986 [==============================] - 208s 70ms/step - loss: nan - accuracy: 0.9893\n",
      "Epoch 4/50\n",
      "2986/2986 [==============================] - 214s 72ms/step - loss: nan - accuracy: 0.9893\n",
      "Epoch 5/50\n",
      "2986/2986 [==============================] - 202s 68ms/step - loss: nan - accuracy: 0.9893\n",
      "Epoch 6/50\n",
      "2986/2986 [==============================] - 205s 69ms/step - loss: nan - accuracy: 0.9893\n",
      "Epoch 7/50\n",
      "2986/2986 [==============================] - 205s 69ms/step - loss: nan - accuracy: 0.9893\n",
      "Epoch 8/50\n",
      "2986/2986 [==============================] - 221s 74ms/step - loss: nan - accuracy: 0.9893\n",
      "Epoch 9/50\n",
      "2986/2986 [==============================] - 208s 70ms/step - loss: nan - accuracy: 0.9893\n",
      "Epoch 10/50\n",
      "2986/2986 [==============================] - 212s 71ms/step - loss: nan - accuracy: 0.9893\n",
      "Epoch 11/50\n",
      "2986/2986 [==============================] - 215s 72ms/step - loss: nan - accuracy: 0.9893\n",
      "Epoch 12/50\n",
      "2986/2986 [==============================] - 236s 79ms/step - loss: nan - accuracy: 0.9893\n",
      "Epoch 13/50\n",
      "2986/2986 [==============================] - 225s 75ms/step - loss: nan - accuracy: 0.9893\n",
      "Epoch 14/50\n",
      "2986/2986 [==============================] - 216s 72ms/step - loss: nan - accuracy: 0.9893\n",
      "Epoch 15/50\n",
      "2986/2986 [==============================] - 221s 74ms/step - loss: nan - accuracy: 0.9893\n",
      "Epoch 16/50\n",
      "2986/2986 [==============================] - 237s 79ms/step - loss: nan - accuracy: 0.9893\n",
      "Epoch 17/50\n",
      "2986/2986 [==============================] - 221s 74ms/step - loss: nan - accuracy: 0.9893\n",
      "Epoch 18/50\n",
      "2986/2986 [==============================] - 220s 74ms/step - loss: nan - accuracy: 0.9893\n",
      "Epoch 19/50\n",
      "2986/2986 [==============================] - 226s 76ms/step - loss: nan - accuracy: 0.9893\n",
      "Epoch 20/50\n",
      "2986/2986 [==============================] - 245s 82ms/step - loss: nan - accuracy: 0.9893\n",
      "Epoch 21/50\n",
      "2986/2986 [==============================] - 227s 76ms/step - loss: nan - accuracy: 0.9893\n",
      "Epoch 22/50\n",
      "2986/2986 [==============================] - 225s 76ms/step - loss: nan - accuracy: 0.9893\n",
      "Epoch 23/50\n",
      "2986/2986 [==============================] - 225s 75ms/step - loss: nan - accuracy: 0.9893\n",
      "Epoch 24/50\n",
      "2986/2986 [==============================] - 246s 82ms/step - loss: nan - accuracy: 0.9893\n",
      "Epoch 25/50\n",
      "2986/2986 [==============================] - 231s 77ms/step - loss: nan - accuracy: 0.9893\n",
      "Epoch 26/50\n",
      "2986/2986 [==============================] - 233s 78ms/step - loss: nan - accuracy: 0.9893\n",
      "Epoch 27/50\n",
      "2986/2986 [==============================] - 227s 76ms/step - loss: nan - accuracy: 0.9893\n",
      "Epoch 28/50\n",
      "2986/2986 [==============================] - 251s 84ms/step - loss: nan - accuracy: 0.9893\n",
      "Epoch 29/50\n",
      "2986/2986 [==============================] - 264s 89ms/step - loss: nan - accuracy: 0.9893\n",
      "Epoch 30/50\n",
      "2986/2986 [==============================] - 250s 84ms/step - loss: nan - accuracy: 0.9893\n",
      "Epoch 31/50\n",
      "2986/2986 [==============================] - 279s 93ms/step - loss: nan - accuracy: 0.9893\n",
      "Epoch 32/50\n",
      "2986/2986 [==============================] - 249s 83ms/step - loss: nan - accuracy: 0.9893\n",
      "Epoch 33/50\n",
      "2986/2986 [==============================] - 247s 83ms/step - loss: nan - accuracy: 0.9893\n",
      "Epoch 34/50\n",
      "2986/2986 [==============================] - 255s 85ms/step - loss: nan - accuracy: 0.9893\n",
      "Epoch 35/50\n",
      "2986/2986 [==============================] - 263s 88ms/step - loss: nan - accuracy: 0.9893\n",
      "Epoch 36/50\n",
      "2986/2986 [==============================] - 231s 77ms/step - loss: nan - accuracy: 0.9893\n",
      "Epoch 37/50\n",
      "2986/2986 [==============================] - 225s 75ms/step - loss: nan - accuracy: 0.9893\n",
      "Epoch 38/50\n",
      "2986/2986 [==============================] - 235s 79ms/step - loss: nan - accuracy: 0.9893\n",
      "Epoch 39/50\n",
      "2986/2986 [==============================] - 238s 80ms/step - loss: nan - accuracy: 0.9893\n",
      "Epoch 40/50\n",
      "2986/2986 [==============================] - 225s 75ms/step - loss: nan - accuracy: 0.9893\n",
      "Epoch 41/50\n",
      "2986/2986 [==============================] - 225s 75ms/step - loss: nan - accuracy: 0.9893\n",
      "Epoch 42/50\n",
      "2986/2986 [==============================] - 239s 80ms/step - loss: nan - accuracy: 0.9893\n",
      "Epoch 43/50\n",
      "2986/2986 [==============================] - 241s 81ms/step - loss: nan - accuracy: 0.9893\n",
      "Epoch 44/50\n",
      "2986/2986 [==============================] - 232s 78ms/step - loss: nan - accuracy: 0.9893\n",
      "Epoch 45/50\n",
      "2986/2986 [==============================] - 234s 78ms/step - loss: nan - accuracy: 0.9893\n",
      "Epoch 46/50\n",
      "2986/2986 [==============================] - 247s 83ms/step - loss: nan - accuracy: 0.9893\n",
      "Epoch 47/50\n",
      "2986/2986 [==============================] - 230s 77ms/step - loss: nan - accuracy: 0.9893\n",
      "Epoch 48/50\n",
      "2986/2986 [==============================] - 222s 74ms/step - loss: nan - accuracy: 0.9893\n",
      "Epoch 49/50\n",
      "2986/2986 [==============================] - 224s 75ms/step - loss: nan - accuracy: 0.9893\n",
      "Epoch 50/50\n",
      "2986/2986 [==============================] - 258s 86ms/step - loss: nan - accuracy: 0.9893\n"
     ]
    },
    {
     "data": {
      "text/plain": [
       "<keras.callbacks.History at 0x160ba4b9820>"
      ]
     },
     "execution_count": 20,
     "metadata": {},
     "output_type": "execute_result"
    }
   ],
   "source": [
    "# Train LSTM model\n",
    "model.fit(X_train, y_train, epochs=50, batch_size=32)\n",
    "\n"
   ]
  },
  {
   "cell_type": "code",
   "execution_count": 21,
   "id": "a4a0885e-3fc6-4c5a-b294-f4ffb76437fc",
   "metadata": {},
   "outputs": [
    {
     "name": "stdout",
     "output_type": "stream",
     "text": [
      "Accuracy: 98.95\n"
     ]
    }
   ],
   "source": [
    "# Evaluate LSTM model\n",
    "loss, accuracy = model.evaluate(X_test, y_test, verbose=0)\n",
    "print('Accuracy: %.2f' % (accuracy*100))"
   ]
  },
  {
   "cell_type": "code",
   "execution_count": null,
   "id": "3c52fd34-c115-42d6-9d36-0961ab373655",
   "metadata": {},
   "outputs": [],
   "source": []
  }
 ],
 "metadata": {
  "kernelspec": {
   "display_name": "Python 3 (ipykernel)",
   "language": "python",
   "name": "python3"
  },
  "language_info": {
   "codemirror_mode": {
    "name": "ipython",
    "version": 3
   },
   "file_extension": ".py",
   "mimetype": "text/x-python",
   "name": "python",
   "nbconvert_exporter": "python",
   "pygments_lexer": "ipython3",
   "version": "3.9.7"
  },
  "toc-autonumbering": true
 },
 "nbformat": 4,
 "nbformat_minor": 5
}
